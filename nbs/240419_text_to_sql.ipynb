{
 "cells": [
  {
   "cell_type": "code",
   "execution_count": 1,
   "metadata": {},
   "outputs": [],
   "source": [
    "#|export\n",
    "import subprocess\n",
    "import dspy\n",
    "import logging\n",
    "import numpy as np\n",
    "from dotenv import load_dotenv\n",
    "from dspy.datasets import DataLoader\n",
    "from dspy.evaluate import Evaluate\n",
    "from dspy.teleprompt import BootstrapFewShotWithRandomSearch, LabeledFewShot"
   ]
  },
  {
   "cell_type": "markdown",
   "metadata": {},
   "source": [
    "## Text to SQL with DSPy"
   ]
  },
  {
   "cell_type": "markdown",
   "metadata": {},
   "source": [
    "Heavily pulled from this great notebook --> [DSPy-Text2SQL.ipynb](https://github.com/jjovalle99/DSPy-Text2SQL/blob/23a0a347db2d7515c5a28c305dacaea00d09dddc/DSPy-Text2SQL.ipynb) "
   ]
  },
  {
   "cell_type": "code",
   "execution_count": 2,
   "metadata": {},
   "outputs": [],
   "source": [
    "# |export\n",
    "########## DSPy Config  ##########\n",
    "lm = dspy.OllamaLocal(\"open-hermes-2-4_0\", max_tokens=2000, model_type=\"text\")\n",
    "evaluator_lm = dspy.OllamaLocal(\"nous-llama-3-8b-instruct\", max_tokens=4000, model_type=\"text\")\n",
    "\n",
    "dspy.settings.configure(lm=lm)"
   ]
  },
  {
   "cell_type": "markdown",
   "metadata": {},
   "source": [
    "Testing inference of `open-hermes` and the quantized `nous-llama-3-instruct`"
   ]
  },
  {
   "cell_type": "code",
   "execution_count": 3,
   "metadata": {},
   "outputs": [
    {
     "data": {
      "text/plain": [
       "['Bodhi is a character from the 1991 film \"Point Break.\" He is portrayed by actor Patrick Swayze. In the movie, Bodhi is the leader of a group of surfers who turn out to be bank robbers. He is known for his charismatic and free-spirited nature, as well as his deep connection with surfing.']"
      ]
     },
     "execution_count": 3,
     "metadata": {},
     "output_type": "execute_result"
    }
   ],
   "source": [
    "lm(\"Who is Bodhi in Point Break?\")"
   ]
  },
  {
   "cell_type": "code",
   "execution_count": 4,
   "metadata": {},
   "outputs": [
    {
     "data": {
      "text/plain": [
       "['Johnny Utah is a fictional character played by Keanu Reeves in the 1991 action film \"Point Break\". He is an FBI agent who goes undercover as a surfer to investigate a group of bank robbers who are also surfers. The movie follows his adventures and battles with the group, led by the charismatic and mysterious Bodhi (played by Patrick Swayze).']"
      ]
     },
     "execution_count": 4,
     "metadata": {},
     "output_type": "execute_result"
    }
   ],
   "source": [
    "evaluator_lm(prompt=\"Who is Johnny Utah?\")"
   ]
  },
  {
   "cell_type": "markdown",
   "metadata": {},
   "source": [
    "### Add Arize Phoenix Telemetry"
   ]
  },
  {
   "cell_type": "code",
   "execution_count": 5,
   "metadata": {},
   "outputs": [],
   "source": [
    "########## Arize Phoenix ##########\n",
    "import phoenix as px\n",
    "from openinference.instrumentation.dspy import DSPyInstrumentor\n",
    "from opentelemetry import trace as trace_api\n",
    "from opentelemetry.exporter.otlp.proto.http.trace_exporter import OTLPSpanExporter\n",
    "from opentelemetry.sdk import trace as trace_sdk\n",
    "from opentelemetry.sdk.resources import Resource\n",
    "from opentelemetry.sdk.trace.export import SimpleSpanProcessor\n",
    "from openinference.semconv.trace import SpanAttributes"
   ]
  },
  {
   "cell_type": "code",
   "execution_count": 6,
   "metadata": {},
   "outputs": [
    {
     "name": "stdout",
     "output_type": "stream",
     "text": [
      "🌍 To view the Phoenix app in your browser, visit http://localhost:6006/\n",
      "📺 To view the Phoenix app in a notebook, run `px.active_session().view()`\n",
      "📖 For more information on how to use Phoenix, check out https://docs.arize.com/phoenix\n"
     ]
    }
   ],
   "source": [
    "phoenix_session = px.launch_app()\n",
    "endpoint = \"http://localhost:6006/v1/traces\"\n",
    "resource = Resource(attributes={})\n",
    "tracer_provider = trace_sdk.TracerProvider(resource=resource)\n",
    "span_otlp_exporter = OTLPSpanExporter(endpoint=endpoint)\n",
    "tracer_provider.add_span_processor(SimpleSpanProcessor(span_exporter=span_otlp_exporter))"
   ]
  },
  {
   "cell_type": "code",
   "execution_count": 7,
   "metadata": {},
   "outputs": [],
   "source": [
    "trace_api.set_tracer_provider(tracer_provider=tracer_provider)\n",
    "DSPyInstrumentor().instrument()\n",
    "class TestTrace(dspy.Signature):\n",
    "    \"\"\"\n",
    "    Perform the task requested to the best of your ability.\n",
    "    \"\"\"\n",
    "\n",
    "    task = dspy.InputField(desc=\"Task to be performed.\")\n",
    "    answer = dspy.OutputField(desc=\"The answer.\")"
   ]
  },
  {
   "cell_type": "code",
   "execution_count": 8,
   "metadata": {},
   "outputs": [],
   "source": [
    "tracer = trace_api.get_tracer(__name__)"
   ]
  },
  {
   "cell_type": "code",
   "execution_count": 9,
   "metadata": {},
   "outputs": [
    {
     "data": {
      "text/plain": [
       "<opentelemetry.sdk.trace.Tracer at 0x7fdad8125570>"
      ]
     },
     "execution_count": 9,
     "metadata": {},
     "output_type": "execute_result"
    }
   ],
   "source": [
    "tracer"
   ]
  },
  {
   "cell_type": "markdown",
   "metadata": {},
   "source": [
    "Test traces"
   ]
  },
  {
   "cell_type": "code",
   "execution_count": 10,
   "metadata": {},
   "outputs": [
    {
     "data": {
      "text/plain": [
       "'According to Bodhi from Point Break, the key to surfing is not just about technical skill but also about embracing the moment, feeling the rush of adrenaline, and living life to its fullest.'"
      ]
     },
     "execution_count": 10,
     "metadata": {},
     "output_type": "execute_result"
    }
   ],
   "source": [
    "test_trace = dspy.Predict(TestTrace)\n",
    "answer = test_trace(task=\"Say Hello.\")\n",
    "test_trace_cot = dspy.ChainOfThought(TestTrace)\n",
    "pred = test_trace_cot(task=\"What would Bodhi from Point Break say is the key to surfing?\")\n",
    "pred.answer"
   ]
  },
  {
   "cell_type": "code",
   "execution_count": 11,
   "metadata": {},
   "outputs": [],
   "source": [
    "np.random.seed(42)"
   ]
  },
  {
   "cell_type": "markdown",
   "metadata": {},
   "source": [
    "Using [Synthetic Text to Sql](https://huggingface.co/datasets/gretelai/synthetic_text_to_sql/viewer/default/train?row=1) dataset"
   ]
  },
  {
   "cell_type": "code",
   "execution_count": 12,
   "metadata": {},
   "outputs": [],
   "source": [
    "dl = DataLoader()\n",
    "dataset = dl.from_huggingface(\n",
    "    dataset_name=\"gretelai/synthetic_text_to_sql\", # Dataset name from Huggingface\n",
    "    fields=(\"sql_prompt\", \"sql_context\", \"sql\"), # Fields needed\n",
    "    input_keys=(\"sql_prompt\", \"sql_context\") # What our model expects to recieve to generate an output\n",
    ")\n",
    "trainset, testset = dl.sample(dataset[\"train\"], n=50), dl.sample(dataset[\"test\"], n=25) # 50 training samples, 25 testing samples\n"
   ]
  },
  {
   "cell_type": "markdown",
   "metadata": {},
   "source": [
    "Verify an example of the dataset"
   ]
  },
  {
   "cell_type": "code",
   "execution_count": 13,
   "metadata": {},
   "outputs": [],
   "source": [
    "sample = dl.sample(dataset=trainset, n=1)[0]"
   ]
  },
  {
   "cell_type": "code",
   "execution_count": 14,
   "metadata": {},
   "outputs": [
    {
     "name": "stdout",
     "output_type": "stream",
     "text": [
      "\n",
      "SQL_PROMPT:\n",
      "\n",
      "What is the total number of decentralized applications in the finance category worldwide?\n",
      "\n",
      "SQL_CONTEXT:\n",
      "\n",
      "CREATE TABLE dapps (id INT, category TEXT, region TEXT); INSERT INTO dapps (id, category, region) VALUES (1, 'Finance', 'Global');\n",
      "\n",
      "SQL:\n",
      "\n",
      "SELECT COUNT(*) FROM dapps WHERE category = 'Finance';\n"
     ]
    }
   ],
   "source": [
    "for k,v in sample.items():\n",
    "    print(f\"\\n{k.upper()}:\\n\")\n",
    "    print(v)"
   ]
  },
  {
   "cell_type": "markdown",
   "metadata": {},
   "source": [
    "### Create Signature\n"
   ]
  },
  {
   "cell_type": "code",
   "execution_count": 15,
   "metadata": {},
   "outputs": [],
   "source": [
    "class TextToSql(dspy.Signature):\n",
    "    \"\"\"Transform a natural language query into a SQL query.\"\"\"\n",
    "\n",
    "    sql_prompt = dspy.InputField(desc=\"Natural language query\")\n",
    "    sql_context = dspy.InputField(desc=\"Context for the query\")\n",
    "    sql = dspy.OutputField(desc=\"SQL query\")"
   ]
  },
  {
   "cell_type": "markdown",
   "metadata": {},
   "source": [
    "### Inference"
   ]
  },
  {
   "cell_type": "markdown",
   "metadata": {},
   "source": [
    "Baseline Inference "
   ]
  },
  {
   "cell_type": "code",
   "execution_count": 16,
   "metadata": {},
   "outputs": [],
   "source": [
    "generate_sql_query = dspy.Predict(signature=TextToSql)"
   ]
  },
  {
   "cell_type": "code",
   "execution_count": 17,
   "metadata": {},
   "outputs": [
    {
     "name": "stdout",
     "output_type": "stream",
     "text": [
      "\n",
      "SQL:\n",
      "\n",
      "Sql Prompt: What is the total number of decentralized applications in the finance category worldwide?\n",
      "Sql Context: CREATE TABLE dapps (id INT, category TEXT, region TEXT); INSERT INTO dapps (id, category, region) VALUES (1, 'Finance', 'Global');\n",
      "Sql: SELECT COUNT(*) FROM dapps WHERE category = 'Finance' AND region = 'Global';\n"
     ]
    }
   ],
   "source": [
    "result = generate_sql_query(sql_prompt=sample[\"sql_prompt\"], sql_context=sample[\"sql_context\"])\n",
    "\n",
    "for k, v in result.items():\n",
    "    print(f\"\\n{k.upper()}:\\n\")\n",
    "    print(v)"
   ]
  },
  {
   "cell_type": "code",
   "execution_count": 18,
   "metadata": {},
   "outputs": [
    {
     "data": {
      "text/plain": [
       "\"Sql Prompt: What is the total number of decentralized applications in the finance category worldwide?\\nSql Context: CREATE TABLE dapps (id INT, category TEXT, region TEXT); INSERT INTO dapps (id, category, region) VALUES (1, 'Finance', 'Global');\\nSql: SELECT COUNT(*) FROM dapps WHERE category = 'Finance' AND region = 'Global';\""
      ]
     },
     "execution_count": 18,
     "metadata": {},
     "output_type": "execute_result"
    }
   ],
   "source": [
    "result.sql"
   ]
  },
  {
   "cell_type": "markdown",
   "metadata": {},
   "source": [
    "### Metric of Evaluation"
   ]
  },
  {
   "cell_type": "code",
   "execution_count": 19,
   "metadata": {},
   "outputs": [],
   "source": [
    "class Correctness(dspy.Signature):\n",
    "    \"\"\"Assess if the SQL query accurately answers the given natural language query based on the provided context.\"\"\"\n",
    "\n",
    "    sql_prompt = dspy.InputField(desc=\"Natural language query\")\n",
    "    sql_context = dspy.InputField(desc=\"Context for the query\")\n",
    "    sql = dspy.InputField(desc=\"SQL query\")\n",
    "    correct = dspy.OutputField(desc=\"Indicate whether the SQL query correctly answers the natural language query based on the given context\", prefix=\"Yes/No:\")\n"
   ]
  },
  {
   "cell_type": "code",
   "execution_count": 20,
   "metadata": {},
   "outputs": [],
   "source": [
    "def correctness_metric(example, pred, trace=None):\n",
    "    sql_prompt, sql_context, sql = example.sql_prompt, example.sql_context, pred.sql\n",
    "\n",
    "    # current_span = trace_api.get_current_span()\n",
    "    # current_span.set_attribute(SpanAttributes.LLM_MODEL_NAME, \"llama-3\")\n",
    "\n",
    "    correctness = dspy.Predict(Correctness)\n",
    "\n",
    "    with dspy.context(lm=evaluator_lm):\n",
    "        correct = correctness(\n",
    "            sql_prompt=sql_prompt,\n",
    "            sql_context=sql_context,\n",
    "            sql=sql,\n",
    "        )\n",
    "\n",
    "    score = int(correct.correct == \"Yes\")\n",
    "\n",
    "    if trace is not None:\n",
    "        return score == 1\n",
    "\n",
    "    return score"
   ]
  },
  {
   "cell_type": "markdown",
   "metadata": {},
   "source": [
    "### Evaluate Single Data Point\n"
   ]
  },
  {
   "cell_type": "code",
   "execution_count": 21,
   "metadata": {},
   "outputs": [
    {
     "name": "stdout",
     "output_type": "stream",
     "text": [
      "Correct SQL query: Yes\n"
     ]
    }
   ],
   "source": [
    "_correctness = correctness_metric(example=sample, pred=result)\n",
    "print(f\"Correct SQL query: {'Yes' if _correctness else 'No'}\")"
   ]
  },
  {
   "cell_type": "code",
   "execution_count": 22,
   "metadata": {},
   "outputs": [
    {
     "name": "stdout",
     "output_type": "stream",
     "text": [
      "\n",
      "\n",
      "\n",
      "\n",
      "Assess if the SQL query accurately answers the given natural language query based on the provided context.\n",
      "\n",
      "---\n",
      "\n",
      "Follow the following format.\n",
      "\n",
      "Sql Prompt: Natural language query\n",
      "\n",
      "Sql Context: Context for the query\n",
      "\n",
      "Sql: SQL query\n",
      "\n",
      "Yes/No: Indicate whether the SQL query correctly answers the natural language query based on the given context\n",
      "\n",
      "---\n",
      "\n",
      "Sql Prompt: What is the total number of decentralized applications in the finance category worldwide?\n",
      "\n",
      "Sql Context: CREATE TABLE dapps (id INT, category TEXT, region TEXT); INSERT INTO dapps (id, category, region) VALUES (1, 'Finance', 'Global');\n",
      "\n",
      "Sql: Sql Prompt: What is the total number of decentralized applications in the finance category worldwide? Sql Context: CREATE TABLE dapps (id INT, category TEXT, region TEXT); INSERT INTO dapps (id, category, region) VALUES (1, 'Finance', 'Global'); Sql: SELECT COUNT(*) FROM dapps WHERE category = 'Finance' AND region = 'Global';\n",
      "\n",
      "Yes/No:\u001b[32m Yes\u001b[0m\n",
      "\n",
      "\n",
      "\n"
     ]
    }
   ],
   "source": [
    "evaluator_lm.inspect_history(n=1)"
   ]
  },
  {
   "cell_type": "markdown",
   "metadata": {},
   "source": [
    "### To-do: Set up Metadata Tracer"
   ]
  },
  {
   "cell_type": "code",
   "execution_count": 23,
   "metadata": {},
   "outputs": [],
   "source": [
    "# with tracer.start_as_current_span(\"testing metadata\") as parent:\n",
    "#     current_span = trace_api.get_current_span()\n",
    "#     current_span.set_attribute(\"model\", \"llama-3-7b-instruct-5q\")\n",
    "#     evaluator_lm(\"Hello there\")"
   ]
  },
  {
   "cell_type": "code",
   "execution_count": 24,
   "metadata": {},
   "outputs": [],
   "source": [
    "# class QuestionClassifier(dspy.Module):\n",
    "#     def __init__(self):\n",
    "#         super().__init__()\n",
    "#         # [snip]\n",
    "#     def forward(self, question: str) -> tuple[str,str]:\n",
    "#         current_span = trace_api.get_current_span()\n",
    "#         current_span.set_attribute(\"metadata\", \"{ 'foo': 'bar' }\")\n",
    "#         # [your dspy code]"
   ]
  },
  {
   "cell_type": "markdown",
   "metadata": {},
   "source": [
    "### Evaluate Entire Dataset"
   ]
  },
  {
   "cell_type": "markdown",
   "metadata": {},
   "source": [
    "#### Open Hermes 2(quantized)"
   ]
  },
  {
   "cell_type": "markdown",
   "metadata": {},
   "source": [
    "Quantized `open-hermes` outperforms `gpt-3.5-turbo-0125`, with `gpt` scoring about 68% and `open-hermes` scoring about 80% OOTB"
   ]
  },
  {
   "cell_type": "code",
   "execution_count": 25,
   "metadata": {},
   "outputs": [
    {
     "name": "stderr",
     "output_type": "stream",
     "text": [
      "Average Metric: 18 / 25  (72.0): 100%|██████████| 25/25 [02:43<00:00,  6.53s/it]"
     ]
    },
    {
     "name": "stdout",
     "output_type": "stream",
     "text": [
      "Average Metric: 18 / 25  (72.0%)\n"
     ]
    },
    {
     "name": "stderr",
     "output_type": "stream",
     "text": [
      "\n",
      "/home/peter-legion-wsl2/peter-projects/permit-vector/.venv/lib/python3.10/site-packages/dspy/evaluate/evaluate.py:266: FutureWarning: Setting an item of incompatible dtype is deprecated and will raise in a future error of pandas. Value '['1' '1' '1' '1' '0']' has dtype incompatible with int64, please explicitly cast to a compatible dtype first.\n",
      "  df.loc[:, metric_name] = df[metric_name].apply(\n"
     ]
    },
    {
     "data": {
      "text/html": [
       "<style type=\"text/css\">\n",
       "#T_d679d th {\n",
       "  text-align: left;\n",
       "}\n",
       "#T_d679d td {\n",
       "  text-align: left;\n",
       "}\n",
       "#T_d679d_row0_col0, #T_d679d_row0_col1, #T_d679d_row0_col2, #T_d679d_row0_col3, #T_d679d_row0_col4, #T_d679d_row1_col0, #T_d679d_row1_col1, #T_d679d_row1_col2, #T_d679d_row1_col3, #T_d679d_row1_col4, #T_d679d_row2_col0, #T_d679d_row2_col1, #T_d679d_row2_col2, #T_d679d_row2_col3, #T_d679d_row2_col4, #T_d679d_row3_col0, #T_d679d_row3_col1, #T_d679d_row3_col2, #T_d679d_row3_col3, #T_d679d_row3_col4, #T_d679d_row4_col0, #T_d679d_row4_col1, #T_d679d_row4_col2, #T_d679d_row4_col3, #T_d679d_row4_col4 {\n",
       "  text-align: left;\n",
       "  white-space: pre-wrap;\n",
       "  word-wrap: break-word;\n",
       "  max-width: 400px;\n",
       "}\n",
       "</style>\n",
       "<table id=\"T_d679d\">\n",
       "  <thead>\n",
       "    <tr>\n",
       "      <th class=\"blank level0\" >&nbsp;</th>\n",
       "      <th id=\"T_d679d_level0_col0\" class=\"col_heading level0 col0\" >sql_prompt</th>\n",
       "      <th id=\"T_d679d_level0_col1\" class=\"col_heading level0 col1\" >sql_context</th>\n",
       "      <th id=\"T_d679d_level0_col2\" class=\"col_heading level0 col2\" >example_sql</th>\n",
       "      <th id=\"T_d679d_level0_col3\" class=\"col_heading level0 col3\" >pred_sql</th>\n",
       "      <th id=\"T_d679d_level0_col4\" class=\"col_heading level0 col4\" >correctness_metric</th>\n",
       "    </tr>\n",
       "  </thead>\n",
       "  <tbody>\n",
       "    <tr>\n",
       "      <th id=\"T_d679d_level0_row0\" class=\"row_heading level0 row0\" >0</th>\n",
       "      <td id=\"T_d679d_row0_col0\" class=\"data row0 col0\" >Insert a new carbon offset program for 'Community Tree Planting' in 'Urban Area X'</td>\n",
       "      <td id=\"T_d679d_row0_col1\" class=\"data row0 col1\" >CREATE TABLE carbon_offset_programs (program_id INT, program_name TEXT, location TEXT);</td>\n",
       "      <td id=\"T_d679d_row0_col2\" class=\"data row0 col2\" >INSERT INTO carbon_offset_programs (program_id, program_name, location) VALUES (4, 'Community Tree Planting', 'Urban Area X');</td>\n",
       "      <td id=\"T_d679d_row0_col3\" class=\"data row0 col3\" >Sql Prompt: Insert a new carbon offset program for 'Community Tree Planting' in 'Urban Area X' Sql Context: CREATE TABLE carbon_offset_programs (program_id INT, program_name TEXT,...</td>\n",
       "      <td id=\"T_d679d_row0_col4\" class=\"data row0 col4\" >1</td>\n",
       "    </tr>\n",
       "    <tr>\n",
       "      <th id=\"T_d679d_level0_row1\" class=\"row_heading level0 row1\" >1</th>\n",
       "      <td id=\"T_d679d_row1_col0\" class=\"data row1 col0\" >Which organizations had the highest number of successful interventions in 'Africa' in 2018?</td>\n",
       "      <td id=\"T_d679d_row1_col1\" class=\"data row1 col1\" >CREATE TABLE organizations (id INT, name VARCHAR(255)); INSERT INTO organizations (id, name) VALUES (1, 'UNHCR'), (2, 'IOM'), (3, 'World Vision'); CREATE TABLE interventions (id INT,...</td>\n",
       "      <td id=\"T_d679d_row1_col2\" class=\"data row1 col2\" >SELECT organization_id, MAX(success) as highest_successful_interventions FROM interventions WHERE YEAR(intervention_date) = 2018 AND location = 'Africa';</td>\n",
       "      <td id=\"T_d679d_row1_col3\" class=\"data row1 col3\" >SELECT organizations.name, COUNT(*) as number_of_successful_interventions FROM organizations JOIN interventions ON organizations.id = interventions.organization_id WHERE interventions.location = 'Africa' AND interventions.success > 0 AND YEAR(intervention_date) = 2018...</td>\n",
       "      <td id=\"T_d679d_row1_col4\" class=\"data row1 col4\" >1</td>\n",
       "    </tr>\n",
       "    <tr>\n",
       "      <th id=\"T_d679d_level0_row2\" class=\"row_heading level0 row2\" >2</th>\n",
       "      <td id=\"T_d679d_row2_col0\" class=\"data row2 col0\" >What is the total revenue of natural skincare products in Australia in the last year?</td>\n",
       "      <td id=\"T_d679d_row2_col1\" class=\"data row2 col1\" >CREATE TABLE skincare_revenue (revenue_id INT, product_id INT, revenue DECIMAL(5,2), is_natural BOOLEAN, revenue_date DATE); INSERT INTO skincare_revenue VALUES (1, 20, 55.99, true, '2021-12-15');</td>\n",
       "      <td id=\"T_d679d_row2_col2\" class=\"data row2 col2\" >SELECT SUM(revenue) FROM skincare_revenue WHERE is_natural = true AND revenue_date BETWEEN '2020-01-01' AND '2021-12-31' AND country = 'Australia';</td>\n",
       "      <td id=\"T_d679d_row2_col3\" class=\"data row2 col3\" >SELECT SUM(revenue) AS total_revenue\n",
       "FROM skincare_revenue\n",
       "WHERE is_natural = true AND revenue_date >= DATEADD(year, -1, GETDATE())\n",
       "AND revenue_date < GETDATE();</td>\n",
       "      <td id=\"T_d679d_row2_col4\" class=\"data row2 col4\" >1</td>\n",
       "    </tr>\n",
       "    <tr>\n",
       "      <th id=\"T_d679d_level0_row3\" class=\"row_heading level0 row3\" >3</th>\n",
       "      <td id=\"T_d679d_row3_col0\" class=\"data row3 col0\" >How many military aircraft maintenance requests were recorded for the Air Force in Q4 2019?</td>\n",
       "      <td id=\"T_d679d_row3_col1\" class=\"data row3 col1\" >CREATE TABLE maintenance_requests (request_id INT, service_branch VARCHAR(255), request_date DATE); INSERT INTO maintenance_requests (request_id, service_branch, request_date) VALUES (1, 'Air Force', '2019-10-01'), (2, 'Navy', '2019-12-02'), (3, 'Air...</td>\n",
       "      <td id=\"T_d679d_row3_col2\" class=\"data row3 col2\" >SELECT COUNT(*) FROM maintenance_requests WHERE service_branch = 'Air Force' AND EXTRACT(QUARTER FROM request_date) = 4 AND EXTRACT(YEAR FROM request_date) = 2019;</td>\n",
       "      <td id=\"T_d679d_row3_col3\" class=\"data row3 col3\" >Sql Prompt: How many military aircraft maintenance requests were recorded for the Air Force in Q4 2019? Sql Context: CREATE TABLE maintenance_requests (request_id INT, service_branch...</td>\n",
       "      <td id=\"T_d679d_row3_col4\" class=\"data row3 col4\" >1</td>\n",
       "    </tr>\n",
       "    <tr>\n",
       "      <th id=\"T_d679d_level0_row4\" class=\"row_heading level0 row4\" >4</th>\n",
       "      <td id=\"T_d679d_row4_col0\" class=\"data row4 col0\" >What is the total number of water wells dug in \"Latin America\" since 2018?</td>\n",
       "      <td id=\"T_d679d_row4_col1\" class=\"data row4 col1\" >CREATE TABLE water_wells (id INT, project_id INT, location VARCHAR(255), construction_date DATE); INSERT INTO water_wells (id, project_id, location, construction_date) VALUES (1, 4001, 'Colombia', '2019-05-01'); INSERT INTO...</td>\n",
       "      <td id=\"T_d679d_row4_col2\" class=\"data row4 col2\" >SELECT COUNT(*) FROM water_wells WHERE location = 'Latin America' AND YEAR(construction_date) >= 2018;</td>\n",
       "      <td id=\"T_d679d_row4_col3\" class=\"data row4 col3\" >SELECT COUNT(*) FROM water_wells WHERE location LIKE '%Latin America%' AND construction_date >= '2018-01-01';</td>\n",
       "      <td id=\"T_d679d_row4_col4\" class=\"data row4 col4\" >0</td>\n",
       "    </tr>\n",
       "  </tbody>\n",
       "</table>\n"
      ],
      "text/plain": [
       "<pandas.io.formats.style.Styler at 0x7fda445a2200>"
      ]
     },
     "metadata": {},
     "output_type": "display_data"
    },
    {
     "data": {
      "text/html": [
       "\n",
       "                <div style='\n",
       "                    text-align: center;\n",
       "                    font-size: 16px;\n",
       "                    font-weight: bold;\n",
       "                    color: #555;\n",
       "                    margin: 10px 0;'>\n",
       "                    ... 20 more rows not displayed ...\n",
       "                </div>\n",
       "                "
      ],
      "text/plain": [
       "<IPython.core.display.HTML object>"
      ]
     },
     "metadata": {},
     "output_type": "display_data"
    }
   ],
   "source": [
    "with dspy.context(lm=lm):\n",
    "    evaluate = Evaluate(\n",
    "        devset=testset,\n",
    "        metric=correctness_metric,\n",
    "        num_threads=8,\n",
    "        display_progress=True,\n",
    "        display_table=5,\n",
    "    )\n",
    "    evaluate(generate_sql_query)"
   ]
  },
  {
   "cell_type": "markdown",
   "metadata": {},
   "source": [
    "#### Llama 3 7b (quantized)"
   ]
  },
  {
   "cell_type": "code",
   "execution_count": 26,
   "metadata": {},
   "outputs": [
    {
     "name": "stderr",
     "output_type": "stream",
     "text": [
      "Average Metric: 20 / 25  (80.0): 100%|██████████| 25/25 [01:49<00:00,  4.39s/it]"
     ]
    },
    {
     "name": "stdout",
     "output_type": "stream",
     "text": [
      "Average Metric: 20 / 25  (80.0%)\n"
     ]
    },
    {
     "name": "stderr",
     "output_type": "stream",
     "text": [
      "\n",
      "/home/peter-legion-wsl2/peter-projects/permit-vector/.venv/lib/python3.10/site-packages/dspy/evaluate/evaluate.py:266: FutureWarning: Setting an item of incompatible dtype is deprecated and will raise in a future error of pandas. Value '['1' '1' '0' '1' '1']' has dtype incompatible with int64, please explicitly cast to a compatible dtype first.\n",
      "  df.loc[:, metric_name] = df[metric_name].apply(\n"
     ]
    },
    {
     "data": {
      "text/html": [
       "<style type=\"text/css\">\n",
       "#T_87383 th {\n",
       "  text-align: left;\n",
       "}\n",
       "#T_87383 td {\n",
       "  text-align: left;\n",
       "}\n",
       "#T_87383_row0_col0, #T_87383_row0_col1, #T_87383_row0_col2, #T_87383_row0_col3, #T_87383_row0_col4, #T_87383_row1_col0, #T_87383_row1_col1, #T_87383_row1_col2, #T_87383_row1_col3, #T_87383_row1_col4, #T_87383_row2_col0, #T_87383_row2_col1, #T_87383_row2_col2, #T_87383_row2_col3, #T_87383_row2_col4, #T_87383_row3_col0, #T_87383_row3_col1, #T_87383_row3_col2, #T_87383_row3_col3, #T_87383_row3_col4, #T_87383_row4_col0, #T_87383_row4_col1, #T_87383_row4_col2, #T_87383_row4_col3, #T_87383_row4_col4 {\n",
       "  text-align: left;\n",
       "  white-space: pre-wrap;\n",
       "  word-wrap: break-word;\n",
       "  max-width: 400px;\n",
       "}\n",
       "</style>\n",
       "<table id=\"T_87383\">\n",
       "  <thead>\n",
       "    <tr>\n",
       "      <th class=\"blank level0\" >&nbsp;</th>\n",
       "      <th id=\"T_87383_level0_col0\" class=\"col_heading level0 col0\" >sql_prompt</th>\n",
       "      <th id=\"T_87383_level0_col1\" class=\"col_heading level0 col1\" >sql_context</th>\n",
       "      <th id=\"T_87383_level0_col2\" class=\"col_heading level0 col2\" >example_sql</th>\n",
       "      <th id=\"T_87383_level0_col3\" class=\"col_heading level0 col3\" >pred_sql</th>\n",
       "      <th id=\"T_87383_level0_col4\" class=\"col_heading level0 col4\" >correctness_metric</th>\n",
       "    </tr>\n",
       "  </thead>\n",
       "  <tbody>\n",
       "    <tr>\n",
       "      <th id=\"T_87383_level0_row0\" class=\"row_heading level0 row0\" >0</th>\n",
       "      <td id=\"T_87383_row0_col0\" class=\"data row0 col0\" >Insert a new carbon offset program for 'Community Tree Planting' in 'Urban Area X'</td>\n",
       "      <td id=\"T_87383_row0_col1\" class=\"data row0 col1\" >CREATE TABLE carbon_offset_programs (program_id INT, program_name TEXT, location TEXT);</td>\n",
       "      <td id=\"T_87383_row0_col2\" class=\"data row0 col2\" >INSERT INTO carbon_offset_programs (program_id, program_name, location) VALUES (4, 'Community Tree Planting', 'Urban Area X');</td>\n",
       "      <td id=\"T_87383_row0_col3\" class=\"data row0 col3\" >--- Sql Prompt: Insert a new carbon offset program for 'Community Tree Planting' in 'Urban Area X' Sql Context: CREATE TABLE carbon_offset_programs (program_id INT, program_name...</td>\n",
       "      <td id=\"T_87383_row0_col4\" class=\"data row0 col4\" >1</td>\n",
       "    </tr>\n",
       "    <tr>\n",
       "      <th id=\"T_87383_level0_row1\" class=\"row_heading level0 row1\" >1</th>\n",
       "      <td id=\"T_87383_row1_col0\" class=\"data row1 col0\" >Which organizations had the highest number of successful interventions in 'Africa' in 2018?</td>\n",
       "      <td id=\"T_87383_row1_col1\" class=\"data row1 col1\" >CREATE TABLE organizations (id INT, name VARCHAR(255)); INSERT INTO organizations (id, name) VALUES (1, 'UNHCR'), (2, 'IOM'), (3, 'World Vision'); CREATE TABLE interventions (id INT,...</td>\n",
       "      <td id=\"T_87383_row1_col2\" class=\"data row1 col2\" >SELECT organization_id, MAX(success) as highest_successful_interventions FROM interventions WHERE YEAR(intervention_date) = 2018 AND location = 'Africa';</td>\n",
       "      <td id=\"T_87383_row1_col3\" class=\"data row1 col3\" >Sql Prompt: Which organizations had the highest number of successful interventions in 'Africa' in 2018? Sql Context: CREATE TABLE organizations (id INT, name VARCHAR(255)); INSERT...</td>\n",
       "      <td id=\"T_87383_row1_col4\" class=\"data row1 col4\" >1</td>\n",
       "    </tr>\n",
       "    <tr>\n",
       "      <th id=\"T_87383_level0_row2\" class=\"row_heading level0 row2\" >2</th>\n",
       "      <td id=\"T_87383_row2_col0\" class=\"data row2 col0\" >What is the total revenue of natural skincare products in Australia in the last year?</td>\n",
       "      <td id=\"T_87383_row2_col1\" class=\"data row2 col1\" >CREATE TABLE skincare_revenue (revenue_id INT, product_id INT, revenue DECIMAL(5,2), is_natural BOOLEAN, revenue_date DATE); INSERT INTO skincare_revenue VALUES (1, 20, 55.99, true, '2021-12-15');</td>\n",
       "      <td id=\"T_87383_row2_col2\" class=\"data row2 col2\" >SELECT SUM(revenue) FROM skincare_revenue WHERE is_natural = true AND revenue_date BETWEEN '2020-01-01' AND '2021-12-31' AND country = 'Australia';</td>\n",
       "      <td id=\"T_87383_row2_col3\" class=\"data row2 col3\" >--- Sql Prompt: What is the total revenue of natural skincare products in Australia in the last year? Sql Context: CREATE TABLE skincare_revenue (revenue_id INT,...</td>\n",
       "      <td id=\"T_87383_row2_col4\" class=\"data row2 col4\" >0</td>\n",
       "    </tr>\n",
       "    <tr>\n",
       "      <th id=\"T_87383_level0_row3\" class=\"row_heading level0 row3\" >3</th>\n",
       "      <td id=\"T_87383_row3_col0\" class=\"data row3 col0\" >How many military aircraft maintenance requests were recorded for the Air Force in Q4 2019?</td>\n",
       "      <td id=\"T_87383_row3_col1\" class=\"data row3 col1\" >CREATE TABLE maintenance_requests (request_id INT, service_branch VARCHAR(255), request_date DATE); INSERT INTO maintenance_requests (request_id, service_branch, request_date) VALUES (1, 'Air Force', '2019-10-01'), (2, 'Navy', '2019-12-02'), (3, 'Air...</td>\n",
       "      <td id=\"T_87383_row3_col2\" class=\"data row3 col2\" >SELECT COUNT(*) FROM maintenance_requests WHERE service_branch = 'Air Force' AND EXTRACT(QUARTER FROM request_date) = 4 AND EXTRACT(YEAR FROM request_date) = 2019;</td>\n",
       "      <td id=\"T_87383_row3_col3\" class=\"data row3 col3\" >Sql Prompt: How many military aircraft maintenance requests were recorded for the Air Force in Q4 2019? Sql Context: CREATE TABLE maintenance_requests (request_id INT, service_branch...</td>\n",
       "      <td id=\"T_87383_row3_col4\" class=\"data row3 col4\" >1</td>\n",
       "    </tr>\n",
       "    <tr>\n",
       "      <th id=\"T_87383_level0_row4\" class=\"row_heading level0 row4\" >4</th>\n",
       "      <td id=\"T_87383_row4_col0\" class=\"data row4 col0\" >What is the total number of water wells dug in \"Latin America\" since 2018?</td>\n",
       "      <td id=\"T_87383_row4_col1\" class=\"data row4 col1\" >CREATE TABLE water_wells (id INT, project_id INT, location VARCHAR(255), construction_date DATE); INSERT INTO water_wells (id, project_id, location, construction_date) VALUES (1, 4001, 'Colombia', '2019-05-01'); INSERT INTO...</td>\n",
       "      <td id=\"T_87383_row4_col2\" class=\"data row4 col2\" >SELECT COUNT(*) FROM water_wells WHERE location = 'Latin America' AND YEAR(construction_date) >= 2018;</td>\n",
       "      <td id=\"T_87383_row4_col3\" class=\"data row4 col3\" >--- Sql Prompt: What is the total number of water wells dug in \"Latin America\" since 2018? Sql Context: CREATE TABLE water_wells (id INT, project_id...</td>\n",
       "      <td id=\"T_87383_row4_col4\" class=\"data row4 col4\" >1</td>\n",
       "    </tr>\n",
       "  </tbody>\n",
       "</table>\n"
      ],
      "text/plain": [
       "<pandas.io.formats.style.Styler at 0x7fda1c951990>"
      ]
     },
     "metadata": {},
     "output_type": "display_data"
    },
    {
     "data": {
      "text/html": [
       "\n",
       "                <div style='\n",
       "                    text-align: center;\n",
       "                    font-size: 16px;\n",
       "                    font-weight: bold;\n",
       "                    color: #555;\n",
       "                    margin: 10px 0;'>\n",
       "                    ... 20 more rows not displayed ...\n",
       "                </div>\n",
       "                "
      ],
      "text/plain": [
       "<IPython.core.display.HTML object>"
      ]
     },
     "metadata": {},
     "output_type": "display_data"
    }
   ],
   "source": [
    "with dspy.context(lm=evaluator_lm):\n",
    "    evaluate = Evaluate(\n",
    "        devset=testset,\n",
    "        metric=correctness_metric,\n",
    "        num_threads=8,\n",
    "        display_progress=True,\n",
    "        display_table=5,\n",
    "    )\n",
    "    evaluate(generate_sql_query)"
   ]
  },
  {
   "cell_type": "markdown",
   "metadata": {},
   "source": [
    "### Optimize for Text-to-SQL"
   ]
  },
  {
   "cell_type": "markdown",
   "metadata": {},
   "source": [
    "#### Create Program"
   ]
  },
  {
   "cell_type": "code",
   "execution_count": 29,
   "metadata": {},
   "outputs": [],
   "source": [
    "class TextToSqlProgram(dspy.Module):\n",
    "    def __init__(self):\n",
    "        super().__init__()\n",
    "        self.program = dspy.ChainOfThought(signature=TextToSql)\n",
    "\n",
    "    def forward(self, sql_prompt, sql_context):\n",
    "        return self.program(sql_prompt=sql_prompt, sql_context=sql_context)"
   ]
  },
  {
   "cell_type": "markdown",
   "metadata": {},
   "source": [
    "#### Few Shot"
   ]
  },
  {
   "cell_type": "code",
   "execution_count": 30,
   "metadata": {},
   "outputs": [],
   "source": [
    "# Execute optimizer -> This only adds a few shots to the prompt\n",
    "optimizer = LabeledFewShot(k=4)\n",
    "optimized_program = optimizer.compile(student=TextToSqlProgram(), trainset=trainset)"
   ]
  },
  {
   "cell_type": "code",
   "execution_count": 31,
   "metadata": {},
   "outputs": [
    {
     "data": {
      "text/plain": [
       "Prediction(\n",
       "    rationale='answer this question. Firstly, we need to identify the table that contains the information about decentralized applications and their categories. In this case, it is the \"dapps\" table. We also know that we are looking for decentralized applications in the finance category worldwide, so we can filter the data based on these criteria.\\n\\nNow, let\\'s write the SQL query to get the total number of decentralized applications in the finance category worldwide:\\n\\n```sql\\nSELECT COUNT(*) AS total_number FROM dapps WHERE category = \\'Finance\\' AND region = \\'Global\\';\\n```\\n\\nThis query will count all the rows in the \"dapps\" table where the category is \"Finance\" and the region is \"Global\". The result of this query will be the total number of decentralized applications in the finance category worldwide.',\n",
       "    sql=\"SELECT COUNT(*) AS total_number FROM dapps WHERE category = 'Finance' AND region = 'Global';\"\n",
       ")"
      ]
     },
     "execution_count": 31,
     "metadata": {},
     "output_type": "execute_result"
    }
   ],
   "source": [
    "optimized_program(sql_context=sample[\"sql_context\"], sql_prompt=sample[\"sql_prompt\"])"
   ]
  },
  {
   "cell_type": "code",
   "execution_count": 32,
   "metadata": {},
   "outputs": [
    {
     "name": "stdout",
     "output_type": "stream",
     "text": [
      "\n",
      "\n",
      "\n",
      "\n",
      "Transform a natural language query into a SQL query.\n",
      "\n",
      "---\n",
      "\n",
      "Sql Prompt: Find the percentage of tourists visiting New Zealand from North America compared to the global total in 2019?\n",
      "Sql Context: CREATE TABLE visitor_info (id INT, visitor_country VARCHAR(50), destination_country VARCHAR(50), visit_date DATE);\n",
      "Sql: SELECT 100.0 * SUM(CASE WHEN visitor_country = 'United States' OR visitor_country = 'Canada' THEN 1 ELSE 0 END) / (SELECT COUNT(*) FROM visitor_info WHERE destination_country = 'New Zealand' AND YEAR(visit_date) = 2019) AS pct_north_america_nz_2019 FROM visitor_info WHERE destination_country = 'New Zealand' AND YEAR(visit_date) = 2019;\n",
      "\n",
      "Sql Prompt: What is the average number of bikes available at each station?\n",
      "Sql Context: CREATE TABLE stations (id INT, station_name VARCHAR(20), bikes INT, docks INT); INSERT INTO stations (id, station_name, bikes, docks) VALUES (1, 'Station 1', 10, 20), (2, 'Station 2', 15, 20), (3, 'Station 3', 20, 20);\n",
      "Sql: SELECT AVG(bikes) FROM stations;\n",
      "\n",
      "Sql Prompt: Insert new records into the Employees table\n",
      "Sql Context: CREATE TABLE Employees (EmployeeID INT PRIMARY KEY, FirstName VARCHAR(50), LastName VARCHAR(50), Department VARCHAR(50), TrainingCompletion DATE);\n",
      "Sql: INSERT INTO Employees (EmployeeID, FirstName, LastName, Department, TrainingCompletion) VALUES (1, 'John', 'Doe', 'HR', '2022-01-01'), (2, 'Jane', 'Smith', 'IT', '2022-02-15'), (3, 'Mike', 'Johnson', 'Finance', NULL), (4, 'Jamal', 'Jackson', 'IT', '2022-03-20'), (5, 'Sophia', 'Lee', 'Marketing', '2022-04-05'), (6, 'Liam', 'Garcia', 'IT', NULL), (7, 'Ava', 'Anderson', 'HR', '2022-02-10');\n",
      "\n",
      "Sql Prompt: What is the total investment in network infrastructure for each technology in the Western region?\n",
      "Sql Context: CREATE TABLE network_investments (investment_id INT, technology VARCHAR(20), region VARCHAR(50), investment_amount INT); INSERT INTO network_investments (investment_id, technology, region, investment_amount) VALUES (1, '4G', 'North', 10000), (2, '5G', 'North', 20000), (3, '3G', 'South', 15000), (4, '5G', 'East', 25000), (5, 'Fiber', 'West', 30000), (6, 'Cable', 'West', 20000), (7, 'DSL', 'East', 18000);\n",
      "Sql: SELECT technology, SUM(investment_amount) AS total_investment FROM network_investments WHERE region = 'West' GROUP BY technology;\n",
      "\n",
      "---\n",
      "\n",
      "Follow the following format.\n",
      "\n",
      "Sql Prompt: Natural language query\n",
      "\n",
      "Sql Context: Context for the query\n",
      "\n",
      "Reasoning: Let's think step by step in order to ${produce the sql}. We ...\n",
      "\n",
      "Sql: SQL query\n",
      "\n",
      "---\n",
      "\n",
      "Sql Prompt: What is the total number of decentralized applications in the finance category worldwide?\n",
      "\n",
      "Sql Context: CREATE TABLE dapps (id INT, category TEXT, region TEXT); INSERT INTO dapps (id, category, region) VALUES (1, 'Finance', 'Global');\n",
      "\n",
      "Reasoning: Let's think step by step in order to answer this question. Firstly, we need to identify the table that contains the information about decentralized applications and their categories. In this case, it is the \"dapps\" table. We also know that we are looking for decentralized applications in the finance category worldwide, so we can filter the data based on these criteria. Now, let's write the SQL query to get the total number of decentralized applications in the finance category worldwide: ```sql SELECT COUNT(*) AS total_number FROM dapps WHERE category = 'Finance' AND region = 'Global'; ``` This query will count all the rows in the \"dapps\" table where the category is \"Finance\" and the region is \"Global\". The result of this query will be the total number of decentralized applications in the finance category worldwide.\n",
      "\n",
      "Sql:\u001b[32m SELECT COUNT(*) AS total_number FROM dapps WHERE category = 'Finance' AND region = 'Global';\u001b[0m\n",
      "\n",
      "\n",
      "\n"
     ]
    }
   ],
   "source": [
    "lm.inspect_history(n=1)"
   ]
  },
  {
   "cell_type": "markdown",
   "metadata": {},
   "source": [
    "### Evaluate the Optimized Program"
   ]
  },
  {
   "cell_type": "code",
   "execution_count": 33,
   "metadata": {},
   "outputs": [
    {
     "name": "stderr",
     "output_type": "stream",
     "text": [
      "Average Metric: 9 / 25  (36.0): 100%|██████████| 25/25 [06:13<00:00, 14.96s/it]"
     ]
    },
    {
     "name": "stdout",
     "output_type": "stream",
     "text": [
      "Average Metric: 9 / 25  (36.0%)\n"
     ]
    },
    {
     "name": "stderr",
     "output_type": "stream",
     "text": [
      "\n",
      "/home/peter-legion-wsl2/peter-projects/permit-vector/.venv/lib/python3.10/site-packages/dspy/evaluate/evaluate.py:266: FutureWarning: Setting an item of incompatible dtype is deprecated and will raise in a future error of pandas. Value '['1' '1' '1' '1' '0']' has dtype incompatible with int64, please explicitly cast to a compatible dtype first.\n",
      "  df.loc[:, metric_name] = df[metric_name].apply(\n"
     ]
    },
    {
     "data": {
      "text/html": [
       "<style type=\"text/css\">\n",
       "#T_1879e th {\n",
       "  text-align: left;\n",
       "}\n",
       "#T_1879e td {\n",
       "  text-align: left;\n",
       "}\n",
       "#T_1879e_row0_col0, #T_1879e_row0_col1, #T_1879e_row0_col2, #T_1879e_row0_col3, #T_1879e_row0_col4, #T_1879e_row0_col5, #T_1879e_row1_col0, #T_1879e_row1_col1, #T_1879e_row1_col2, #T_1879e_row1_col3, #T_1879e_row1_col4, #T_1879e_row1_col5, #T_1879e_row2_col0, #T_1879e_row2_col1, #T_1879e_row2_col2, #T_1879e_row2_col3, #T_1879e_row2_col4, #T_1879e_row2_col5, #T_1879e_row3_col0, #T_1879e_row3_col1, #T_1879e_row3_col2, #T_1879e_row3_col3, #T_1879e_row3_col4, #T_1879e_row3_col5, #T_1879e_row4_col0, #T_1879e_row4_col1, #T_1879e_row4_col2, #T_1879e_row4_col3, #T_1879e_row4_col4, #T_1879e_row4_col5 {\n",
       "  text-align: left;\n",
       "  white-space: pre-wrap;\n",
       "  word-wrap: break-word;\n",
       "  max-width: 400px;\n",
       "}\n",
       "</style>\n",
       "<table id=\"T_1879e\">\n",
       "  <thead>\n",
       "    <tr>\n",
       "      <th class=\"blank level0\" >&nbsp;</th>\n",
       "      <th id=\"T_1879e_level0_col0\" class=\"col_heading level0 col0\" >sql_prompt</th>\n",
       "      <th id=\"T_1879e_level0_col1\" class=\"col_heading level0 col1\" >sql_context</th>\n",
       "      <th id=\"T_1879e_level0_col2\" class=\"col_heading level0 col2\" >example_sql</th>\n",
       "      <th id=\"T_1879e_level0_col3\" class=\"col_heading level0 col3\" >rationale</th>\n",
       "      <th id=\"T_1879e_level0_col4\" class=\"col_heading level0 col4\" >pred_sql</th>\n",
       "      <th id=\"T_1879e_level0_col5\" class=\"col_heading level0 col5\" >correctness_metric</th>\n",
       "    </tr>\n",
       "  </thead>\n",
       "  <tbody>\n",
       "    <tr>\n",
       "      <th id=\"T_1879e_level0_row0\" class=\"row_heading level0 row0\" >0</th>\n",
       "      <td id=\"T_1879e_row0_col0\" class=\"data row0 col0\" >Insert a new carbon offset program for 'Community Tree Planting' in 'Urban Area X'</td>\n",
       "      <td id=\"T_1879e_row0_col1\" class=\"data row0 col1\" >CREATE TABLE carbon_offset_programs (program_id INT, program_name TEXT, location TEXT);</td>\n",
       "      <td id=\"T_1879e_row0_col2\" class=\"data row0 col2\" >INSERT INTO carbon_offset_programs (program_id, program_name, location) VALUES (4, 'Community Tree Planting', 'Urban Area X');</td>\n",
       "      <td id=\"T_1879e_row0_col3\" class=\"data row0 col3\" >insert a new carbon offset program for 'Community Tree Planting' in 'Urban Area X'. Step 1: Check if the program already exists. We can use...</td>\n",
       "      <td id=\"T_1879e_row0_col4\" class=\"data row0 col4\" >INSERT INTO carbon_offset_programs (program_id, program_name, location) VALUES (1, 'Community Tree Planting', 'Urban Area X');</td>\n",
       "      <td id=\"T_1879e_row0_col5\" class=\"data row0 col5\" >1</td>\n",
       "    </tr>\n",
       "    <tr>\n",
       "      <th id=\"T_1879e_level0_row1\" class=\"row_heading level0 row1\" >1</th>\n",
       "      <td id=\"T_1879e_row1_col0\" class=\"data row1 col0\" >Which organizations had the highest number of successful interventions in 'Africa' in 2018?</td>\n",
       "      <td id=\"T_1879e_row1_col1\" class=\"data row1 col1\" >CREATE TABLE organizations (id INT, name VARCHAR(255)); INSERT INTO organizations (id, name) VALUES (1, 'UNHCR'), (2, 'IOM'), (3, 'World Vision'); CREATE TABLE interventions (id INT,...</td>\n",
       "      <td id=\"T_1879e_row1_col2\" class=\"data row1 col2\" >SELECT organization_id, MAX(success) as highest_successful_interventions FROM interventions WHERE YEAR(intervention_date) = 2018 AND location = 'Africa';</td>\n",
       "      <td id=\"T_1879e_row1_col3\" class=\"data row1 col3\" >answer this question. First, we need to filter the interventions that took place in Africa in 2018. Then, we can group them by organization and...</td>\n",
       "      <td id=\"T_1879e_row1_col4\" class=\"data row1 col4\" >SELECT organizations.name AS organization_name, COUNT(*) AS num_interventions FROM organizations JOIN interventions ON organizations.id = interventions.organization_id WHERE interventions.location = 'Africa' AND YEAR(interventions.intervention_date) = 2018 GROUP BY...</td>\n",
       "      <td id=\"T_1879e_row1_col5\" class=\"data row1 col5\" >1</td>\n",
       "    </tr>\n",
       "    <tr>\n",
       "      <th id=\"T_1879e_level0_row2\" class=\"row_heading level0 row2\" >2</th>\n",
       "      <td id=\"T_1879e_row2_col0\" class=\"data row2 col0\" >What is the total revenue of natural skincare products in Australia in the last year?</td>\n",
       "      <td id=\"T_1879e_row2_col1\" class=\"data row2 col1\" >CREATE TABLE skincare_revenue (revenue_id INT, product_id INT, revenue DECIMAL(5,2), is_natural BOOLEAN, revenue_date DATE); INSERT INTO skincare_revenue VALUES (1, 20, 55.99, true, '2021-12-15');</td>\n",
       "      <td id=\"T_1879e_row2_col2\" class=\"data row2 col2\" >SELECT SUM(revenue) FROM skincare_revenue WHERE is_natural = true AND revenue_date BETWEEN '2020-01-01' AND '2021-12-31' AND country = 'Australia';</td>\n",
       "      <td id=\"T_1879e_row2_col3\" class=\"data row2 col3\" >answer this question correctly. Firstly, we need to filter the revenue data for natural skincare products. Then, we need to group the results by product...</td>\n",
       "      <td id=\"T_1879e_row2_col4\" class=\"data row2 col4\" >SELECT SUM(revenue) AS total_revenue FROM skincare_revenue WHERE is_natural = true AND revenue_date >= '2021-01-01' AND revenue_date < '2022-01-01';</td>\n",
       "      <td id=\"T_1879e_row2_col5\" class=\"data row2 col5\" >1</td>\n",
       "    </tr>\n",
       "    <tr>\n",
       "      <th id=\"T_1879e_level0_row3\" class=\"row_heading level0 row3\" >3</th>\n",
       "      <td id=\"T_1879e_row3_col0\" class=\"data row3 col0\" >How many military aircraft maintenance requests were recorded for the Air Force in Q4 2019?</td>\n",
       "      <td id=\"T_1879e_row3_col1\" class=\"data row3 col1\" >CREATE TABLE maintenance_requests (request_id INT, service_branch VARCHAR(255), request_date DATE); INSERT INTO maintenance_requests (request_id, service_branch, request_date) VALUES (1, 'Air Force', '2019-10-01'), (2, 'Navy', '2019-12-02'), (3, 'Air...</td>\n",
       "      <td id=\"T_1879e_row3_col2\" class=\"data row3 col2\" >SELECT COUNT(*) FROM maintenance_requests WHERE service_branch = 'Air Force' AND EXTRACT(QUARTER FROM request_date) = 4 AND EXTRACT(YEAR FROM request_date) = 2019;</td>\n",
       "      <td id=\"T_1879e_row3_col3\" class=\"data row3 col3\" >answer this question. First, we need to filter the maintenance requests table for only those that belong to the Air Force service branch. Then, we...</td>\n",
       "      <td id=\"T_1879e_row3_col4\" class=\"data row3 col4\" >SELECT COUNT(*) AS num_requests FROM maintenance_requests WHERE service_branch = 'Air Force' AND request_date BETWEEN '2019-10-01' AND '2019-12-31';</td>\n",
       "      <td id=\"T_1879e_row3_col5\" class=\"data row3 col5\" >1</td>\n",
       "    </tr>\n",
       "    <tr>\n",
       "      <th id=\"T_1879e_level0_row4\" class=\"row_heading level0 row4\" >4</th>\n",
       "      <td id=\"T_1879e_row4_col0\" class=\"data row4 col0\" >What is the total number of water wells dug in \"Latin America\" since 2018?</td>\n",
       "      <td id=\"T_1879e_row4_col1\" class=\"data row4 col1\" >CREATE TABLE water_wells (id INT, project_id INT, location VARCHAR(255), construction_date DATE); INSERT INTO water_wells (id, project_id, location, construction_date) VALUES (1, 4001, 'Colombia', '2019-05-01'); INSERT INTO...</td>\n",
       "      <td id=\"T_1879e_row4_col2\" class=\"data row4 col2\" >SELECT COUNT(*) FROM water_wells WHERE location = 'Latin America' AND YEAR(construction_date) >= 2018;</td>\n",
       "      <td id=\"T_1879e_row4_col3\" class=\"data row4 col3\" >answer this question. First, we need to filter the water wells that were dug in Latin America. Then, we need to count the number of...</td>\n",
       "      <td id=\"T_1879e_row4_col4\" class=\"data row4 col4\" >SELECT YEAR(construction_date) AS year, COUNT(*) AS total_wells FROM water_wells WHERE location LIKE '%Latin America%' AND construction_date >= '2018-01-01' GROUP BY YEAR(construction_date) WITH ROLLUP; This query...</td>\n",
       "      <td id=\"T_1879e_row4_col5\" class=\"data row4 col5\" >0</td>\n",
       "    </tr>\n",
       "  </tbody>\n",
       "</table>\n"
      ],
      "text/plain": [
       "<pandas.io.formats.style.Styler at 0x7fda33629b40>"
      ]
     },
     "metadata": {},
     "output_type": "display_data"
    },
    {
     "data": {
      "text/html": [
       "\n",
       "                <div style='\n",
       "                    text-align: center;\n",
       "                    font-size: 16px;\n",
       "                    font-weight: bold;\n",
       "                    color: #555;\n",
       "                    margin: 10px 0;'>\n",
       "                    ... 20 more rows not displayed ...\n",
       "                </div>\n",
       "                "
      ],
      "text/plain": [
       "<IPython.core.display.HTML object>"
      ]
     },
     "metadata": {},
     "output_type": "display_data"
    },
    {
     "data": {
      "text/plain": [
       "36.0"
      ]
     },
     "execution_count": 33,
     "metadata": {},
     "output_type": "execute_result"
    }
   ],
   "source": [
    "evaluate(optimized_program, num_threads=8)"
   ]
  },
  {
   "cell_type": "code",
   "execution_count": null,
   "metadata": {},
   "outputs": [],
   "source": []
  }
 ],
 "metadata": {
  "kernelspec": {
   "display_name": ".venv",
   "language": "python",
   "name": "python3"
  },
  "language_info": {
   "codemirror_mode": {
    "name": "ipython",
    "version": 3
   },
   "file_extension": ".py",
   "mimetype": "text/x-python",
   "name": "python",
   "nbconvert_exporter": "python",
   "pygments_lexer": "ipython3",
   "version": "3.10.12"
  }
 },
 "nbformat": 4,
 "nbformat_minor": 2
}
